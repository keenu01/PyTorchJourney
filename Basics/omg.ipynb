{
  "nbformat": 4,
  "nbformat_minor": 0,
  "metadata": {
    "colab": {
      "provenance": []
    },
    "kernelspec": {
      "name": "python3",
      "display_name": "Python 3"
    },
    "language_info": {
      "name": "python"
    },
    "widgets": {
      "application/vnd.jupyter.widget-state+json": {
        "1fef91548b8b481690f65d73472b783d": {
          "model_module": "@jupyter-widgets/controls",
          "model_name": "HBoxModel",
          "model_module_version": "1.5.0",
          "state": {
            "_dom_classes": [],
            "_model_module": "@jupyter-widgets/controls",
            "_model_module_version": "1.5.0",
            "_model_name": "HBoxModel",
            "_view_count": null,
            "_view_module": "@jupyter-widgets/controls",
            "_view_module_version": "1.5.0",
            "_view_name": "HBoxView",
            "box_style": "",
            "children": [
              "IPY_MODEL_936be8a4932c459fa1889fc4a082bfa0",
              "IPY_MODEL_5422078314394fdea57170a78a947b71",
              "IPY_MODEL_7219ba6e3cc043d7814525d0f16fd1e8"
            ],
            "layout": "IPY_MODEL_86cbc9ba457d4ba7b0760777df6741c8"
          }
        },
        "936be8a4932c459fa1889fc4a082bfa0": {
          "model_module": "@jupyter-widgets/controls",
          "model_name": "HTMLModel",
          "model_module_version": "1.5.0",
          "state": {
            "_dom_classes": [],
            "_model_module": "@jupyter-widgets/controls",
            "_model_module_version": "1.5.0",
            "_model_name": "HTMLModel",
            "_view_count": null,
            "_view_module": "@jupyter-widgets/controls",
            "_view_module_version": "1.5.0",
            "_view_name": "HTMLView",
            "description": "",
            "description_tooltip": null,
            "layout": "IPY_MODEL_6b5e1f69c2c94b9cb3c5d4174abd999c",
            "placeholder": "​",
            "style": "IPY_MODEL_d6db62c610964ad2ac83e466eb49fb8c",
            "value": "  0%"
          }
        },
        "5422078314394fdea57170a78a947b71": {
          "model_module": "@jupyter-widgets/controls",
          "model_name": "FloatProgressModel",
          "model_module_version": "1.5.0",
          "state": {
            "_dom_classes": [],
            "_model_module": "@jupyter-widgets/controls",
            "_model_module_version": "1.5.0",
            "_model_name": "FloatProgressModel",
            "_view_count": null,
            "_view_module": "@jupyter-widgets/controls",
            "_view_module_version": "1.5.0",
            "_view_name": "ProgressView",
            "bar_style": "",
            "description": "",
            "description_tooltip": null,
            "layout": "IPY_MODEL_a96f22c32dcf4e03986b39120b01703b",
            "max": 2,
            "min": 0,
            "orientation": "horizontal",
            "style": "IPY_MODEL_d548270bf8f449e098173c8f1c763655",
            "value": 0
          }
        },
        "7219ba6e3cc043d7814525d0f16fd1e8": {
          "model_module": "@jupyter-widgets/controls",
          "model_name": "HTMLModel",
          "model_module_version": "1.5.0",
          "state": {
            "_dom_classes": [],
            "_model_module": "@jupyter-widgets/controls",
            "_model_module_version": "1.5.0",
            "_model_name": "HTMLModel",
            "_view_count": null,
            "_view_module": "@jupyter-widgets/controls",
            "_view_module_version": "1.5.0",
            "_view_name": "HTMLView",
            "description": "",
            "description_tooltip": null,
            "layout": "IPY_MODEL_d19b815e10ce4692a3b4cce6b191f5a0",
            "placeholder": "​",
            "style": "IPY_MODEL_7c2ae6fb47fc48bd8dd8b6ae93638b73",
            "value": " 0/2 [00:00&lt;?, ?it/s]"
          }
        },
        "86cbc9ba457d4ba7b0760777df6741c8": {
          "model_module": "@jupyter-widgets/base",
          "model_name": "LayoutModel",
          "model_module_version": "1.2.0",
          "state": {
            "_model_module": "@jupyter-widgets/base",
            "_model_module_version": "1.2.0",
            "_model_name": "LayoutModel",
            "_view_count": null,
            "_view_module": "@jupyter-widgets/base",
            "_view_module_version": "1.2.0",
            "_view_name": "LayoutView",
            "align_content": null,
            "align_items": null,
            "align_self": null,
            "border": null,
            "bottom": null,
            "display": null,
            "flex": null,
            "flex_flow": null,
            "grid_area": null,
            "grid_auto_columns": null,
            "grid_auto_flow": null,
            "grid_auto_rows": null,
            "grid_column": null,
            "grid_gap": null,
            "grid_row": null,
            "grid_template_areas": null,
            "grid_template_columns": null,
            "grid_template_rows": null,
            "height": null,
            "justify_content": null,
            "justify_items": null,
            "left": null,
            "margin": null,
            "max_height": null,
            "max_width": null,
            "min_height": null,
            "min_width": null,
            "object_fit": null,
            "object_position": null,
            "order": null,
            "overflow": null,
            "overflow_x": null,
            "overflow_y": null,
            "padding": null,
            "right": null,
            "top": null,
            "visibility": null,
            "width": null
          }
        },
        "6b5e1f69c2c94b9cb3c5d4174abd999c": {
          "model_module": "@jupyter-widgets/base",
          "model_name": "LayoutModel",
          "model_module_version": "1.2.0",
          "state": {
            "_model_module": "@jupyter-widgets/base",
            "_model_module_version": "1.2.0",
            "_model_name": "LayoutModel",
            "_view_count": null,
            "_view_module": "@jupyter-widgets/base",
            "_view_module_version": "1.2.0",
            "_view_name": "LayoutView",
            "align_content": null,
            "align_items": null,
            "align_self": null,
            "border": null,
            "bottom": null,
            "display": null,
            "flex": null,
            "flex_flow": null,
            "grid_area": null,
            "grid_auto_columns": null,
            "grid_auto_flow": null,
            "grid_auto_rows": null,
            "grid_column": null,
            "grid_gap": null,
            "grid_row": null,
            "grid_template_areas": null,
            "grid_template_columns": null,
            "grid_template_rows": null,
            "height": null,
            "justify_content": null,
            "justify_items": null,
            "left": null,
            "margin": null,
            "max_height": null,
            "max_width": null,
            "min_height": null,
            "min_width": null,
            "object_fit": null,
            "object_position": null,
            "order": null,
            "overflow": null,
            "overflow_x": null,
            "overflow_y": null,
            "padding": null,
            "right": null,
            "top": null,
            "visibility": null,
            "width": null
          }
        },
        "d6db62c610964ad2ac83e466eb49fb8c": {
          "model_module": "@jupyter-widgets/controls",
          "model_name": "DescriptionStyleModel",
          "model_module_version": "1.5.0",
          "state": {
            "_model_module": "@jupyter-widgets/controls",
            "_model_module_version": "1.5.0",
            "_model_name": "DescriptionStyleModel",
            "_view_count": null,
            "_view_module": "@jupyter-widgets/base",
            "_view_module_version": "1.2.0",
            "_view_name": "StyleView",
            "description_width": ""
          }
        },
        "a96f22c32dcf4e03986b39120b01703b": {
          "model_module": "@jupyter-widgets/base",
          "model_name": "LayoutModel",
          "model_module_version": "1.2.0",
          "state": {
            "_model_module": "@jupyter-widgets/base",
            "_model_module_version": "1.2.0",
            "_model_name": "LayoutModel",
            "_view_count": null,
            "_view_module": "@jupyter-widgets/base",
            "_view_module_version": "1.2.0",
            "_view_name": "LayoutView",
            "align_content": null,
            "align_items": null,
            "align_self": null,
            "border": null,
            "bottom": null,
            "display": null,
            "flex": null,
            "flex_flow": null,
            "grid_area": null,
            "grid_auto_columns": null,
            "grid_auto_flow": null,
            "grid_auto_rows": null,
            "grid_column": null,
            "grid_gap": null,
            "grid_row": null,
            "grid_template_areas": null,
            "grid_template_columns": null,
            "grid_template_rows": null,
            "height": null,
            "justify_content": null,
            "justify_items": null,
            "left": null,
            "margin": null,
            "max_height": null,
            "max_width": null,
            "min_height": null,
            "min_width": null,
            "object_fit": null,
            "object_position": null,
            "order": null,
            "overflow": null,
            "overflow_x": null,
            "overflow_y": null,
            "padding": null,
            "right": null,
            "top": null,
            "visibility": null,
            "width": null
          }
        },
        "d548270bf8f449e098173c8f1c763655": {
          "model_module": "@jupyter-widgets/controls",
          "model_name": "ProgressStyleModel",
          "model_module_version": "1.5.0",
          "state": {
            "_model_module": "@jupyter-widgets/controls",
            "_model_module_version": "1.5.0",
            "_model_name": "ProgressStyleModel",
            "_view_count": null,
            "_view_module": "@jupyter-widgets/base",
            "_view_module_version": "1.2.0",
            "_view_name": "StyleView",
            "bar_color": null,
            "description_width": ""
          }
        },
        "d19b815e10ce4692a3b4cce6b191f5a0": {
          "model_module": "@jupyter-widgets/base",
          "model_name": "LayoutModel",
          "model_module_version": "1.2.0",
          "state": {
            "_model_module": "@jupyter-widgets/base",
            "_model_module_version": "1.2.0",
            "_model_name": "LayoutModel",
            "_view_count": null,
            "_view_module": "@jupyter-widgets/base",
            "_view_module_version": "1.2.0",
            "_view_name": "LayoutView",
            "align_content": null,
            "align_items": null,
            "align_self": null,
            "border": null,
            "bottom": null,
            "display": null,
            "flex": null,
            "flex_flow": null,
            "grid_area": null,
            "grid_auto_columns": null,
            "grid_auto_flow": null,
            "grid_auto_rows": null,
            "grid_column": null,
            "grid_gap": null,
            "grid_row": null,
            "grid_template_areas": null,
            "grid_template_columns": null,
            "grid_template_rows": null,
            "height": null,
            "justify_content": null,
            "justify_items": null,
            "left": null,
            "margin": null,
            "max_height": null,
            "max_width": null,
            "min_height": null,
            "min_width": null,
            "object_fit": null,
            "object_position": null,
            "order": null,
            "overflow": null,
            "overflow_x": null,
            "overflow_y": null,
            "padding": null,
            "right": null,
            "top": null,
            "visibility": null,
            "width": null
          }
        },
        "7c2ae6fb47fc48bd8dd8b6ae93638b73": {
          "model_module": "@jupyter-widgets/controls",
          "model_name": "DescriptionStyleModel",
          "model_module_version": "1.5.0",
          "state": {
            "_model_module": "@jupyter-widgets/controls",
            "_model_module_version": "1.5.0",
            "_model_name": "DescriptionStyleModel",
            "_view_count": null,
            "_view_module": "@jupyter-widgets/base",
            "_view_module_version": "1.2.0",
            "_view_name": "StyleView",
            "description_width": ""
          }
        }
      }
    }
  },
  "cells": [
    {
      "cell_type": "code",
      "execution_count": 39,
      "metadata": {
        "id": "FvkWKxDASEJk"
      },
      "outputs": [],
      "source": [
        "import torch as t\n",
        "import torch.nn as nn\n",
        "import torchvision\n",
        "from torchvision import datasets\n",
        "from torchvision import transforms\n",
        "from torchvision.transforms import ToTensor\n",
        "from torch.utils.data import DataLoader\n",
        "\n",
        "import random\n",
        "import matplotlib.pyplot as plt"
      ]
    },
    {
      "cell_type": "code",
      "source": [
        "train_data = datasets.CIFAR10(\n",
        "                            train=True,\n",
        "                            root=\"data\",\n",
        "                            download=True,\n",
        "                            transform = ToTensor(),\n",
        "                            target_transform=None\n",
        "\n",
        ")\n",
        "test_data = datasets.CIFAR10(\n",
        "                            train=False,\n",
        "                            root=\"data\",\n",
        "                            download=True,\n",
        "                            transform = ToTensor(),\n",
        "                            target_transform=None\n",
        ")"
      ],
      "metadata": {
        "colab": {
          "base_uri": "https://localhost:8080/"
        },
        "id": "55l6WRU8Z3Ti",
        "outputId": "99b6eb2f-236b-4594-f93c-9ce6ad57d2b3"
      },
      "execution_count": 30,
      "outputs": [
        {
          "output_type": "stream",
          "name": "stdout",
          "text": [
            "Files already downloaded and verified\n",
            "Files already downloaded and verified\n"
          ]
        }
      ]
    },
    {
      "cell_type": "code",
      "source": [
        "BATCH_SIZE = 32\n",
        "train_dataloader = DataLoader(dataset = train_data,\n",
        "                              shuffle=False,\n",
        "                              batch_size=BATCH_SIZE\n",
        "                            )\n",
        "test_dataloader = DataLoader(dataset=test_data,\n",
        "                             shuffle=True,\n",
        "                             batch_size=BATCH_SIZE)\n",
        "\n"
      ],
      "metadata": {
        "id": "7Jfe-lajaRMg"
      },
      "execution_count": null,
      "outputs": []
    },
    {
      "cell_type": "code",
      "source": [
        "class_names = train_data.classes\n",
        "\n",
        "class_names"
      ],
      "metadata": {
        "colab": {
          "base_uri": "https://localhost:8080/"
        },
        "id": "38lwy7BOeVTM",
        "outputId": "0eb48f14-0e24-417d-abde-3c97615aedec"
      },
      "execution_count": 64,
      "outputs": [
        {
          "output_type": "execute_result",
          "data": {
            "text/plain": [
              "['airplane',\n",
              " 'automobile',\n",
              " 'bird',\n",
              " 'cat',\n",
              " 'deer',\n",
              " 'dog',\n",
              " 'frog',\n",
              " 'horse',\n",
              " 'ship',\n",
              " 'truck']"
            ]
          },
          "metadata": {},
          "execution_count": 64
        }
      ]
    },
    {
      "cell_type": "code",
      "source": [
        "image, target = next(iter(test_dataloader))\n",
        "\n"
      ],
      "metadata": {
        "id": "WODcq9yoanqN"
      },
      "execution_count": null,
      "outputs": []
    },
    {
      "cell_type": "code",
      "source": [
        "plt.imshow(image[random.randint(1,32)].permute(1, 2, 0))  # Convert image format for plotting\n",
        "plt.title(f\"Label: {target[0]}\")\n",
        "plt.show()"
      ],
      "metadata": {
        "colab": {
          "base_uri": "https://localhost:8080/",
          "height": 452
        },
        "id": "8ium8H0wdUVy",
        "outputId": "1e0e9e49-18f9-46df-e941-b236fdfcfff4"
      },
      "execution_count": 51,
      "outputs": [
        {
          "output_type": "display_data",
          "data": {
            "text/plain": [
              "<Figure size 640x480 with 1 Axes>"
            ],
            "image/png": "[encoded data removed]"
          },
          "metadata": {}
        }
      ]
    },
    {
      "cell_type": "code",
      "source": [
        "print(image[0].shape)\n",
        "flatten = nn.Flatten()\n",
        "\n",
        "\n",
        "x = flatten(image[0])\n",
        "print(x.shape)"
      ],
      "metadata": {
        "colab": {
          "base_uri": "https://localhost:8080/"
        },
        "id": "ePD6k_SPdzj9",
        "outputId": "4ccd2679-91b7-413a-a2b2-445a374de360"
      },
      "execution_count": 59,
      "outputs": [
        {
          "output_type": "stream",
          "name": "stdout",
          "text": [
            "torch.Size([3, 32, 32])\n",
            "torch.Size([3, 1024])\n"
          ]
        }
      ]
    },
    {
      "cell_type": "code",
      "source": [
        "class CNNeq(nn.Module):\n",
        "  def __init__ (self,IN:int,HID:int,OUT:int):\n",
        "    super().__init__()\n",
        "    self.conv1 = nn.Sequential(\n",
        "                    nn.Conv2d(IN,HID,kernel_size=3,padding=1,stride=1),\n",
        "                    nn.ReLU(),\n",
        "                    nn.Conv2d(HID,HID,kernel_size=3,padding=1,stride=1),\n",
        "                    nn.ReLU(),\n",
        "                    nn.MaxPool2d(kernel_size=2)\n",
        "    )\n",
        "    self.conv2 = nn.Sequential(\n",
        "                    nn.Conv2d(HID,HID,kernel_size=3,padding=1,stride=1),\n",
        "                    nn.ReLU(),\n",
        "                    nn.Conv2d(HID,HID,kernel_size=3,padding=1,stride=1),\n",
        "                    nn.ReLU(),\n",
        "                    nn.MaxPool2d(kernel_size=2)\n",
        "    )\n",
        "    self.conv3 = nn.Sequential(\n",
        "                    nn.Conv2d(HID,HID,kernel_size=3,padding=1,stride=1),\n",
        "                    nn.ReLU(),\n",
        "                    nn.Conv2d(HID,HID,kernel_size=3,padding=1,stride=1),\n",
        "                    nn.ReLU(),\n",
        "                    nn.MaxPool2d(kernel_size=2)\n",
        "    )\n",
        "\n",
        "    self.output = nn.Sequential(\n",
        "            nn.Flatten(),\n",
        "            nn.Linear(HID * 4 * 4, HID),\n",
        "            nn.ReLU(),\n",
        "            nn.Linear(HID, OUT),\n",
        "        )\n",
        "  def forward(self,x:t.Tensor)->t.Tensor:\n",
        "    out = self.conv1(x)\n",
        "    out = self.conv2(out)\n",
        "    out = self.conv3(out)\n",
        "    out =  self.output(out)\n",
        "    return out\n",
        "\n"
      ],
      "metadata": {
        "id": "cAz3k1NmeK7x"
      },
      "execution_count": 90,
      "outputs": []
    },
    {
      "cell_type": "code",
      "source": [
        "model = CNNeq(IN=3,HID=100,OUT=len(class_names))"
      ],
      "metadata": {
        "id": "MSXb6Q_WfV3o"
      },
      "execution_count": 91,
      "outputs": []
    },
    {
      "cell_type": "code",
      "source": [
        "loss_fn = nn.CrossEntropyLoss()\n",
        "optimizer = t.optim.SGD(model.parameters(),lr=0.001)"
      ],
      "metadata": {
        "id": "c-UGjHqBf-fQ"
      },
      "execution_count": 92,
      "outputs": []
    },
    {
      "cell_type": "code",
      "source": [
        "from tqdm.auto import tqdm\n",
        "EPOCHS = 2\n",
        "\n",
        "for epoch in tqdm(range(EPOCHS)):\n",
        "  print(f\"EPOCH:{epoch}\\n=====\")\n",
        "  train_loss = 0\n",
        "  for batch, (x,y) in enumerate(train_dataloader):\n",
        "    model.train()\n",
        "    y_pred = model(x)\n",
        "    loss = loss_fn(y_pred,y)\n",
        "    train_loss += loss\n",
        "\n",
        "    optimizer.zero_grad()\n",
        "    loss.backward()\n",
        "    optimizer.step()\n",
        "\n",
        "    if batch % 5 == 0:\n",
        "      print(f\"Current Batch:{batch*len(x)}/{len(train_dataloader.dataset)}\")\n",
        "\n",
        "\n",
        "  model.eval()\n",
        "  test_loss = 0\n",
        "  with t.inference_mode():\n",
        "        for x_test, y_test in test_dataloader:\n",
        "            x_test, y_test = x_test  # Move data to GPU\n",
        "            test_pred = model(x_test)\n",
        "            test_loss += loss_fn(test_pred, y_test).item()  # Use .item() to accumulate scalar loss values\n",
        "  print(f\"\\nTrain loss: {train_loss:.5f} | Test loss: {test_loss:.5f}\")\n",
        "\n"
      ],
      "metadata": {
        "colab": {
          "base_uri": "https://localhost:8080/",
          "height": 465,
          "referenced_widgets": [
            "1fef91548b8b481690f65d73472b783d",
            "936be8a4932c459fa1889fc4a082bfa0",
            "5422078314394fdea57170a78a947b71",
            "7219ba6e3cc043d7814525d0f16fd1e8",
            "86cbc9ba457d4ba7b0760777df6741c8",
            "6b5e1f69c2c94b9cb3c5d4174abd999c",
            "d6db62c610964ad2ac83e466eb49fb8c",
            "a96f22c32dcf4e03986b39120b01703b",
            "d548270bf8f449e098173c8f1c763655",
            "d19b815e10ce4692a3b4cce6b191f5a0",
            "7c2ae6fb47fc48bd8dd8b6ae93638b73"
          ]
        },
        "id": "JPLoxT3hgLIa",
        "outputId": "d7950e40-76b0-4ec6-b368-e8d7bb2c164e"
      },
      "execution_count": null,
      "outputs": [
        {
          "output_type": "display_data",
          "data": {
            "text/plain": [
              "  0%|          | 0/2 [00:00<?, ?it/s]"
            ],
            "application/vnd.jupyter.widget-view+json": {
              "version_major": 2,
              "version_minor": 0,
              "model_id": "1fef91548b8b481690f65d73472b783d"
            }
          },
          "metadata": {}
        },
        {
          "output_type": "stream",
          "name": "stdout",
          "text": [
            "EPOCH:0\n",
            "=====\n",
            "Current Batch:0/50000\n",
            "Current Batch:160/50000\n",
            "Current Batch:320/50000\n",
            "Current Batch:480/50000\n",
            "Current Batch:640/50000\n",
            "Current Batch:800/50000\n",
            "Current Batch:960/50000\n",
            "Current Batch:1120/50000\n",
            "Current Batch:1280/50000\n",
            "Current Batch:1440/50000\n",
            "Current Batch:1600/50000\n",
            "Current Batch:1760/50000\n",
            "Current Batch:1920/50000\n",
            "Current Batch:2080/50000\n",
            "Current Batch:2240/50000\n",
            "Current Batch:2400/50000\n",
            "Current Batch:2560/50000\n",
            "Current Batch:2720/50000\n",
            "Current Batch:2880/50000\n",
            "Current Batch:3040/50000\n",
            "Current Batch:3200/50000\n",
            "Current Batch:3360/50000\n"
          ]
        }
      ]
    },
    {
      "cell_type": "code",
      "source": [],
      "metadata": {
        "id": "h8tTHzD2gy31"
      },
      "execution_count": null,
      "outputs": []
    }
  ]
}
